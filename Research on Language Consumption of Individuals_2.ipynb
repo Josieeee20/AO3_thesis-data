{
 "cells": [
  {
   "cell_type": "markdown",
   "id": "ad06ce95",
   "metadata": {},
   "source": [
    "This notebook is designed to explore the language reading ability of individual users. From the user's perspective, it explores the user's ability to read 1, 2, 3, 4, and 5 languages respectively. The principle is simply that if the username appears in articles in five languages, it is considered that he has the reading ability in five languages."
   ]
  },
  {
   "cell_type": "markdown",
   "id": "aaa10da1",
   "metadata": {},
   "source": [
    "# 1. First expand all target files"
   ]
  },
  {
   "cell_type": "code",
   "execution_count": 1,
   "id": "20d5a29e",
   "metadata": {},
   "outputs": [
    {
     "name": "stdout",
     "output_type": "stream",
     "text": [
      "Language: bahasa_indonesia\n",
      "          username          language   work_id\n",
      "0   dianthus_peony  Bahasa Indonesia  36657928\n",
      "1        Reyan3779  Bahasa Indonesia  36657928\n",
      "2       CuddlyWorm  Bahasa Indonesia  36657928\n",
      "3  jinkook_married  Bahasa Indonesia  36657928\n",
      "4      agustDRkive  Bahasa Indonesia  36657928\n",
      "Language: português_brasileiro\n",
      "    username              language   work_id\n",
      "0   nic_ckie  Português brasileiro  35195854\n",
      "1   KimIsa15  Português brasileiro  32475397\n",
      "2  velezhard  Português brasileiro  32475397\n",
      "3   bunny445  Português brasileiro  32475397\n",
      "4    Lunnary  Português brasileiro  32475397\n",
      "Language: chinese\n",
      "            username language   work_id\n",
      "0           xiaowwai  chinese  40244955\n",
      "1         kwonorange  chinese  40244955\n",
      "2              EM_WX  chinese  40244955\n",
      "3  mintchocolatemint  chinese  40244955\n",
      "4      aaaaaaa_aaaaa  chinese  40244955\n",
      "Language: english\n",
      "        username language   work_id\n",
      "0      camote_24  english  39739578\n",
      "1       AdaoraKi  english  39739578\n",
      "2  enderwolf_438  english  39739578\n",
      "3      Jiggeukie  english  39739578\n",
      "4   purpleangel8  english  39739578\n",
      "Language: spain\n",
      "         username language   work_id\n",
      "0       Pentelho3    spain  38475859\n",
      "1  Dakaria_Scar05    spain  38475859\n",
      "2        sopemoon    spain  38475859\n",
      "3       l3ilaaart    spain  38475859\n",
      "4         AlphaTK    spain  38475859\n"
     ]
    }
   ],
   "source": [
    "import pandas as pd\n",
    "import glob\n",
    "import os\n",
    "\n",
    "# Initialize an empty dictionary to store DataFrames in different languages\n",
    "lits = {}\n",
    "\n",
    "for fn in sorted(glob.glob('/Users/josiechen/desktop/prepared data/*.csv')):\n",
    "  \n",
    "    if 'anglo-norman' in fn:\n",
    "        continue\n",
    "    \n",
    "  \n",
    "    df = pd.read_csv(fn)\n",
    "    \n",
    "  \n",
    "    lang = os.path.basename(fn).replace('prepared data_', '').replace('.csv', '').lower()\n",
    "    \n",
    "   \n",
    "    lits[lang] = df[['username', 'language', 'work_id']]\n",
    "\n",
    "\n",
    "for lang, data in lits.items():\n",
    "    print(f\"Language: {lang}\")\n",
    "    print(data.head())\n"
   ]
  },
  {
   "cell_type": "markdown",
   "id": "5eda3731",
   "metadata": {},
   "source": [
    "# 2. Merge all data together"
   ]
  },
  {
   "cell_type": "code",
   "execution_count": 2,
   "id": "619e8301",
   "metadata": {},
   "outputs": [
    {
     "name": "stdout",
     "output_type": "stream",
     "text": [
      "Merged and sorted data saved to /Users/josiechen/desktop/merged_data.csv\n"
     ]
    }
   ],
   "source": [
    "import pandas as pd\n",
    "import glob\n",
    "import os\n",
    "\n",
    "\n",
    "all_data = []\n",
    "\n",
    "\n",
    "for fn in sorted(glob.glob('/Users/josiechen/desktop/prepared data/*.csv')):\n",
    "    \n",
    "    if 'anglo-norman' in fn:\n",
    "        continue\n",
    "    \n",
    "   \n",
    "    df = pd.read_csv(fn)\n",
    "    \n",
    "  \n",
    "    all_data.append(df[['username', 'language', 'work_id']])\n",
    "\n",
    "\n",
    "combined_df = pd.concat(all_data, ignore_index=True)\n",
    "\n",
    "\n",
    "sorted_df = combined_df.sort_values(by='username')\n",
    "\n",
    "\n",
    "sorted_df.to_csv('/Users/josiechen/desktop/merged_data.csv', index=False)\n",
    "\n",
    "print(\"Merged and sorted data saved to /Users/josiechen/desktop/merged_data.csv\")\n"
   ]
  },
  {
   "cell_type": "markdown",
   "id": "b6165522",
   "metadata": {},
   "source": [
    "# 3. Count how many users can read articles in 1, 2, 3, 4, or 5 languages"
   ]
  },
  {
   "cell_type": "code",
   "execution_count": 3,
   "id": "54ed4e8a",
   "metadata": {},
   "outputs": [
    {
     "name": "stdout",
     "output_type": "stream",
     "text": [
      "Number of users who can read 1 language(s): 34566\n",
      "Number of users who can read 2 language(s): 1437\n",
      "Number of users who can read 3 language(s): 155\n",
      "Number of users who can read 4 language(s): 18\n",
      "Number of users who can read 5 language(s): 3\n"
     ]
    }
   ],
   "source": [
    "import pandas as pd\n",
    "import glob\n",
    "import os\n",
    "\n",
    "\n",
    "all_data = []\n",
    "\n",
    "\n",
    "for fn in sorted(glob.glob('/Users/josiechen/desktop/prepared data/*.csv')):\n",
    "    \n",
    "    if 'anglo-norman' in fn:\n",
    "        continue\n",
    "    \n",
    "  \n",
    "    df = pd.read_csv(fn)\n",
    "    \n",
    "   \n",
    "    all_data.append(df[['username', 'language', 'work_id']])\n",
    "\n",
    "\n",
    "combined_df = pd.concat(all_data, ignore_index=True)\n",
    "\n",
    "\n",
    "user_lang_counts = combined_df.groupby('username')['language'].nunique()\n",
    "\n",
    "\n",
    "lang_reading_stats = user_lang_counts.value_counts().sort_index()\n",
    "\n",
    "\n",
    "for num_languages, num_users in lang_reading_stats.items():\n",
    "    print(f\"Number of users who can read {num_languages} language(s): {num_users}\")\n"
   ]
  },
  {
   "cell_type": "markdown",
   "id": "d7c5399a",
   "metadata": {},
   "source": [
    "It turns out that 23,566 readers can read 1 language, 1,437 readers can read 2 languages, 155 and 18 readers can read 3 and 4 languages, and finally only 3 readers can read all 5 languages."
   ]
  },
  {
   "cell_type": "code",
   "execution_count": 5,
   "id": "00ce9a4a",
   "metadata": {},
   "outputs": [
    {
     "name": "stdout",
     "output_type": "stream",
     "text": [
      "Users who can read 5 languages:\n",
      "No_Blon\n",
      "k0om4to\n",
      "zaurelie371986\n"
     ]
    }
   ],
   "source": [
    "import pandas as pd\n",
    "import glob\n",
    "import os\n",
    "\n",
    "\n",
    "all_data = []\n",
    "\n",
    "\n",
    "for fn in sorted(glob.glob('/Users/josiechen/desktop/prepared data/*.csv')):\n",
    "    \n",
    "    if 'anglo-norman' in fn:\n",
    "        continue\n",
    "    \n",
    "    \n",
    "    df = pd.read_csv(fn)\n",
    "    \n",
    "    \n",
    "    all_data.append(df[['username', 'language', 'work_id']])\n",
    "\n",
    "\n",
    "combined_df = pd.concat(all_data, ignore_index=True)\n",
    "\n",
    "\n",
    "user_lang_counts = combined_df.groupby('username')['language'].nunique()\n",
    "\n",
    "\n",
    "users_with_5_languages = user_lang_counts[user_lang_counts == 5].index\n",
    "\n",
    "\n",
    "print(\"Users who can read 5 languages:\")\n",
    "for user in users_with_5_languages:\n",
    "    print(user)\n",
    "\n",
    "\n",
    "users_with_5_languages.to_series().to_csv('/Users/josiechen/desktop/users_with_5_languages.csv', index=False)\n"
   ]
  },
  {
   "cell_type": "markdown",
   "id": "a466ae71",
   "metadata": {},
   "source": [
    "Verify the results and find the names of readers who can read 5 languages to double check and ensure the accuracy of the data."
   ]
  }
 ],
 "metadata": {
  "kernelspec": {
   "display_name": "Python 3 (ipykernel)",
   "language": "python",
   "name": "python3"
  },
  "language_info": {
   "codemirror_mode": {
    "name": "ipython",
    "version": 3
   },
   "file_extension": ".py",
   "mimetype": "text/x-python",
   "name": "python",
   "nbconvert_exporter": "python",
   "pygments_lexer": "ipython3",
   "version": "3.11.4"
  }
 },
 "nbformat": 4,
 "nbformat_minor": 5
}
